{
 "cells": [
  {
   "cell_type": "code",
   "execution_count": 1,
   "metadata": {
    "collapsed": false
   },
   "outputs": [
    {
     "name": "stderr",
     "output_type": "stream",
     "text": [
      "/usr/local/lib/python3.6/dist-packages/h5py/__init__.py:36: FutureWarning: Conversion of the second argument of issubdtype from `float` to `np.floating` is deprecated. In future, it will be treated as `np.float64 == np.dtype(float).type`.\n",
      "  from ._conv import register_converters as _register_converters\n",
      "Using TensorFlow backend.\n"
     ]
    }
   ],
   "source": [
    "%matplotlib inline\n",
    "import numpy as np\n",
    "import pandas as pd\n",
    "import seaborn as sns\n",
    "import os\n",
    "from PIL import Image\n",
    "import matplotlib.pylab as plt\n",
    "from sklearn.preprocessing import StandardScaler, OneHotEncoder, LabelEncoder\n",
    "from sklearn.model_selection import train_test_split\n",
    "import cv2 \n",
    "import math\n",
    "#\n",
    "import keras\n",
    "from keras.layers import Dense, Dropout, Flatten\n",
    "from keras.layers import Conv2D, MaxPooling2D\n",
    "from keras.layers import Input, Dense, Conv2D, MaxPooling2D, UpSampling2D, BatchNormalization, Activation\n",
    "from keras.models import Model\n",
    "from keras import backend as K\n",
    "from keras.preprocessing.image import ImageDataGenerator\n",
    "from keras.callbacks import TensorBoard\n",
    "from keras.utils import multi_gpu_model\n",
    "#\n",
    "import tensorflow as tf"
   ]
  },
  {
   "cell_type": "code",
   "execution_count": 2,
   "metadata": {
    "collapsed": true
   },
   "outputs": [],
   "source": [
    "from keras.preprocessing import image\n",
    "import warnings\n",
    "from os.path import split"
   ]
  },
  {
   "cell_type": "code",
   "execution_count": 3,
   "metadata": {
    "collapsed": false
   },
   "outputs": [
    {
     "data": {
      "text/html": [
       "<div>\n",
       "<style scoped>\n",
       "    .dataframe tbody tr th:only-of-type {\n",
       "        vertical-align: middle;\n",
       "    }\n",
       "\n",
       "    .dataframe tbody tr th {\n",
       "        vertical-align: top;\n",
       "    }\n",
       "\n",
       "    .dataframe thead th {\n",
       "        text-align: right;\n",
       "    }\n",
       "</style>\n",
       "<table border=\"1\" class=\"dataframe\">\n",
       "  <thead>\n",
       "    <tr style=\"text-align: right;\">\n",
       "      <th></th>\n",
       "      <th>Image</th>\n",
       "      <th>Id</th>\n",
       "      <th>imagepath</th>\n",
       "    </tr>\n",
       "  </thead>\n",
       "  <tbody>\n",
       "    <tr>\n",
       "      <th>0</th>\n",
       "      <td>00022e1a.jpg</td>\n",
       "      <td>w_e15442c</td>\n",
       "      <td>/media/fanglab/DATA/Wei-Tse/Whale_Classifier/t...</td>\n",
       "    </tr>\n",
       "    <tr>\n",
       "      <th>1</th>\n",
       "      <td>000466c4.jpg</td>\n",
       "      <td>w_1287fbc</td>\n",
       "      <td>/media/fanglab/DATA/Wei-Tse/Whale_Classifier/t...</td>\n",
       "    </tr>\n",
       "    <tr>\n",
       "      <th>2</th>\n",
       "      <td>00087b01.jpg</td>\n",
       "      <td>w_da2efe0</td>\n",
       "      <td>/media/fanglab/DATA/Wei-Tse/Whale_Classifier/t...</td>\n",
       "    </tr>\n",
       "    <tr>\n",
       "      <th>3</th>\n",
       "      <td>001296d5.jpg</td>\n",
       "      <td>w_19e5482</td>\n",
       "      <td>/media/fanglab/DATA/Wei-Tse/Whale_Classifier/t...</td>\n",
       "    </tr>\n",
       "    <tr>\n",
       "      <th>4</th>\n",
       "      <td>0014cfdf.jpg</td>\n",
       "      <td>w_f22f3e3</td>\n",
       "      <td>/media/fanglab/DATA/Wei-Tse/Whale_Classifier/t...</td>\n",
       "    </tr>\n",
       "  </tbody>\n",
       "</table>\n",
       "</div>"
      ],
      "text/plain": [
       "          Image         Id                                          imagepath\n",
       "0  00022e1a.jpg  w_e15442c  /media/fanglab/DATA/Wei-Tse/Whale_Classifier/t...\n",
       "1  000466c4.jpg  w_1287fbc  /media/fanglab/DATA/Wei-Tse/Whale_Classifier/t...\n",
       "2  00087b01.jpg  w_da2efe0  /media/fanglab/DATA/Wei-Tse/Whale_Classifier/t...\n",
       "3  001296d5.jpg  w_19e5482  /media/fanglab/DATA/Wei-Tse/Whale_Classifier/t...\n",
       "4  0014cfdf.jpg  w_f22f3e3  /media/fanglab/DATA/Wei-Tse/Whale_Classifier/t..."
      ]
     },
     "execution_count": 3,
     "metadata": {},
     "output_type": "execute_result"
    }
   ],
   "source": [
    "# Reference: https://www.kaggle.com/gimunu/data-augmentation-with-keras-into-cnn\n",
    "# Load images\n",
    "train_images = os.listdir(\"/media/fanglab/DATA/Wei-Tse/Whale_Classifier/train/\")\n",
    "test_images = os.listdir(\"/media/fanglab/DATA/Wei-Tse/Whale_Classifier/test/\")\n",
    "df = pd.read_csv(\"train.csv\")\n",
    "# Build Table\n",
    "df[\"imagepath\"] = df[\"Image\"].map( lambda x : \"/media/fanglab/DATA/Wei-Tse/Whale_Classifier/train/\"+x)\n",
    "ImageToLabelDict = dict( zip( df.Image, df[\"Id\"]))\n",
    "df.head()"
   ]
  },
  {
   "cell_type": "code",
   "execution_count": 4,
   "metadata": {
    "collapsed": false
   },
   "outputs": [
    {
     "name": "stdout",
     "output_type": "stream",
     "text": [
      "Found 9850 images belonging to 4251 classes.\n"
     ]
    }
   ],
   "source": [
    "# Build CNN imagedatabase\n",
    "\n",
    "batch_size = 64\n",
    "seednum = 1\n",
    "\n",
    "#generator for training\n",
    "# the folder name will be though as label name if class_mode=\"categorical\"\n",
    "# And keras will use folder name for one hot encoding\n",
    "# let's why alphabery order is important\n",
    "\n",
    "# Data Augmentation\n",
    "train_gen = ImageDataGenerator(\n",
    "    rescale=1./255,\n",
    "    rotation_range=15,\n",
    "    width_shift_range=.15,\n",
    "    height_shift_range=.15,\n",
    "    horizontal_flip=True)\n",
    "\n",
    "#data from specific path\n",
    "trainD = train_gen.flow_from_directory(\n",
    "        'CNN_TransferL/train/',\n",
    "        class_mode=\"categorical\",\n",
    "        batch_size=batch_size,\n",
    "        target_size=(224, 224),\n",
    "        seed=seednum,\n",
    "        shuffle=False)"
   ]
  },
  {
   "cell_type": "code",
   "execution_count": 5,
   "metadata": {
    "collapsed": true
   },
   "outputs": [],
   "source": [
    "# Got One-hot encoding in keras\n",
    "encoded_dict=trainD.class_indices\n",
    "# Inverse encoded : labelname\n",
    "dict_encodedlabel={a :b for b,a in encoded_dict.items()}"
   ]
  },
  {
   "cell_type": "code",
   "execution_count": 8,
   "metadata": {
    "collapsed": false
   },
   "outputs": [
    {
     "name": "stderr",
     "output_type": "stream",
     "text": [
      "/home/fanglab/.local/lib/python3.6/site-packages/keras/models.py:255: UserWarning: No training configuration found in save file: the model was *not* compiled. Compile it manually.\n",
      "  warnings.warn('No training configuration found in save file: '\n"
     ]
    }
   ],
   "source": [
    "# Load Model\n",
    "from keras.models import load_model\n",
    "model = load_model('VGG_TL.h5')\n",
    "# optimizer \n",
    "ot=keras.optimizers.Adam(lr=0.01, beta_1=0.9, beta_2=0.999, epsilon=None, decay=0.95, amsgrad=False)\n",
    "#Compile the model\n",
    "model.compile(optimizer=ot, loss='categorical_crossentropy', metrics=['accuracy'])"
   ]
  },
  {
   "cell_type": "code",
   "execution_count": 9,
   "metadata": {
    "collapsed": false
   },
   "outputs": [],
   "source": [
    "with open(\"sample_submission.csv\",\"w\") as f:\n",
    "    with warnings.catch_warnings():\n",
    "        f.write(\"Image,Id\\n\")\n",
    "        warnings.filterwarnings(\"ignore\",category=DeprecationWarning)\n",
    "        for imagename in test_images:\n",
    "            img = image.load_img( 'CNN_TransferL/test/'+imagename+'.png', target_size=(224, 224))\n",
    "            img =image.img_to_array(img)/255\n",
    "            #applying preprocessing to test images\n",
    "            img =img.reshape(1,224,224,3)\n",
    "            y = model.predict(img)\n",
    "            # choose top 5 prediction\n",
    "            predicted_args = np.argsort(y)[0][::-1][:4]\n",
    "            predicted_tags='new_whale'\n",
    "            for i in range(0,4):\n",
    "                predicted_tags=predicted_tags+' '+dict_encodedlabel[predicted_args[i]]\n",
    "            # image name without '.jpg'\n",
    "            imagename = split(imagename)[-1]\n",
    "            f.write(\"%s,%s\\n\" %(imagename, predicted_tags))\n",
    "                                "
   ]
  },
  {
   "cell_type": "code",
   "execution_count": null,
   "metadata": {
    "collapsed": true
   },
   "outputs": [],
   "source": []
  },
  {
   "cell_type": "code",
   "execution_count": null,
   "metadata": {
    "collapsed": true
   },
   "outputs": [],
   "source": []
  },
  {
   "cell_type": "code",
   "execution_count": null,
   "metadata": {
    "collapsed": true
   },
   "outputs": [],
   "source": []
  }
 ],
 "metadata": {
  "kernelspec": {
   "display_name": "Python 3",
   "language": "python",
   "name": "python3"
  },
  "language_info": {
   "codemirror_mode": {
    "name": "ipython",
    "version": 3
   },
   "file_extension": ".py",
   "mimetype": "text/x-python",
   "name": "python",
   "nbconvert_exporter": "python",
   "pygments_lexer": "ipython3",
   "version": "3.6.3"
  }
 },
 "nbformat": 4,
 "nbformat_minor": 2
}
